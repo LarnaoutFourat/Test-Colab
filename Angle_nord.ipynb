{
  "nbformat": 4,
  "nbformat_minor": 0,
  "metadata": {
    "colab": {
      "provenance": [],
      "authorship_tag": "ABX9TyPAkHGtkbf0usHlsPkaY27D",
      "include_colab_link": true
    },
    "kernelspec": {
      "name": "python3",
      "display_name": "Python 3"
    },
    "language_info": {
      "name": "python"
    }
  },
  "cells": [
    {
      "cell_type": "markdown",
      "metadata": {
        "id": "view-in-github",
        "colab_type": "text"
      },
      "source": [
        "<a href=\"https://colab.research.google.com/github/LarnaoutFourat/Test-Colab/blob/main/Angle_nord.ipynb\" target=\"_parent\"><img src=\"https://colab.research.google.com/assets/colab-badge.svg\" alt=\"Open In Colab\"/></a>"
      ]
    },
    {
      "cell_type": "code",
      "execution_count": null,
      "metadata": {
        "id": "U9qjXO0ylQzi"
      },
      "outputs": [],
      "source": [
        "import math "
      ]
    },
    {
      "cell_type": "code",
      "source": [
        " # Deux points de la rue King ouest( 90° par rapport au nord) \n",
        "\n",
        "lat1 = 45.398645\n",
        "lon1 = -71.913186\n",
        "lat2 = 45.398693\n",
        "lon2 =  -71.911219"
      ],
      "metadata": {
        "id": "B_7jTwbfwmg0"
      },
      "execution_count": null,
      "outputs": []
    },
    {
      "cell_type": "code",
      "source": [
        "lat11 =  math.radians(lat1)\n",
        "lon11 =  math.radians(lon1)\n",
        "lat22 =  math.radians(lat2)\n",
        "lon22 =  math.radians(lon2)"
      ],
      "metadata": {
        "id": "ulaysAD1npCW"
      },
      "execution_count": null,
      "outputs": []
    },
    {
      "cell_type": "code",
      "source": [
        "delta = lon22-lon11\n",
        "x = math.cos(lat22)* math.sin(delta)\n",
        "y = math.cos(lat11)*math.sin(lat22)-math.sin(lat11)*math.cos(lat22)*math.cos(delta)\n",
        "anglerad = math.atan2(x,y)\n",
        "angledeg = math.degrees(anglerad)\n",
        "while angledeg < 0:\n",
        "  angledeg += 360\n",
        "#return angledeg % 360\n",
        "angledeg % 360\n"
      ],
      "metadata": {
        "colab": {
          "base_uri": "https://localhost:8080/"
        },
        "id": "_u_upymjoxp2",
        "outputId": "56b63edd-d53c-48ce-e0c4-a7081e08abd8"
      },
      "execution_count": null,
      "outputs": [
        {
          "output_type": "execute_result",
          "data": {
            "text/plain": [
              "88.00888885596638"
            ]
          },
          "metadata": {},
          "execution_count": 71
        }
      ]
    },
    {
      "cell_type": "code",
      "source": [],
      "metadata": {
        "id": "-Dx5XKEinZK0"
      },
      "execution_count": null,
      "outputs": []
    }
  ]
}